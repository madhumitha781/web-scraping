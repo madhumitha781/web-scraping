{
  "cells": [
    {
      "cell_type": "code",
      "execution_count": null,
      "metadata": {
        "colab": {
          "base_uri": "https://localhost:8080/"
        },
        "id": "j1wZkkQhQz5r",
        "outputId": "9541de4b-5a7a-49e8-ce7e-d5eeca4a4b05"
      },
      "outputs": [
        {
          "name": "stdout",
          "output_type": "stream",
          "text": [
            "Collecting bs4\n",
            "  Downloading bs4-0.0.2-py2.py3-none-any.whl.metadata (411 bytes)\n",
            "Requirement already satisfied: beautifulsoup4 in /usr/local/lib/python3.10/dist-packages (from bs4) (4.12.3)\n",
            "Requirement already satisfied: soupsieve>1.2 in /usr/local/lib/python3.10/dist-packages (from beautifulsoup4->bs4) (2.6)\n",
            "Downloading bs4-0.0.2-py2.py3-none-any.whl (1.2 kB)\n",
            "Installing collected packages: bs4\n",
            "Successfully installed bs4-0.0.2\n"
          ]
        }
      ],
      "source": [
        "!pip install bs4"
      ]
    },
    {
      "cell_type": "code",
      "execution_count": null,
      "metadata": {
        "colab": {
          "base_uri": "https://localhost:8080/"
        },
        "id": "ykQ_cz9nRHji",
        "outputId": "f51455e3-62d8-49b4-f4e7-e748d4e4c66a"
      },
      "outputs": [
        {
          "name": "stdout",
          "output_type": "stream",
          "text": [
            "Requirement already satisfied: lxml in /usr/local/lib/python3.10/dist-packages (4.9.4)\n"
          ]
        }
      ],
      "source": [
        "!pip install lxml"
      ]
    },
    {
      "cell_type": "code",
      "execution_count": null,
      "metadata": {
        "colab": {
          "base_uri": "https://localhost:8080/"
        },
        "id": "dP_IGNIqRJkE",
        "outputId": "957fee32-3e84-4510-83db-7466d2a001d6"
      },
      "outputs": [
        {
          "name": "stdout",
          "output_type": "stream",
          "text": [
            "Requirement already satisfied: requests in /usr/local/lib/python3.10/dist-packages (2.32.3)\n",
            "Requirement already satisfied: charset-normalizer<4,>=2 in /usr/local/lib/python3.10/dist-packages (from requests) (3.3.2)\n",
            "Requirement already satisfied: idna<4,>=2.5 in /usr/local/lib/python3.10/dist-packages (from requests) (3.7)\n",
            "Requirement already satisfied: urllib3<3,>=1.21.1 in /usr/local/lib/python3.10/dist-packages (from requests) (2.0.7)\n",
            "Requirement already satisfied: certifi>=2017.4.17 in /usr/local/lib/python3.10/dist-packages (from requests) (2024.7.4)\n"
          ]
        }
      ],
      "source": [
        "!pip install requests"
      ]
    },
    {
      "cell_type": "code",
      "execution_count": null,
      "metadata": {
        "id": "sQ2-Eo8aRM66"
      },
      "outputs": [],
      "source": [
        "from bs4 import BeautifulSoup\n",
        "import requests"
      ]
    },
    {
      "cell_type": "code",
      "execution_count": null,
      "metadata": {
        "id": "Ts7oOowDRdD5"
      },
      "outputs": [],
      "source": [
        "def main(URL):\n",
        "    # opening our output file in append mode\n",
        "    File = open(\"out.csv\", \"a\")\n",
        "\n",
        "    # specifying user agent, You can use other user agents\n",
        "    # available on the internet\n",
        "    HEADERS = {\n",
        "        'User-Agent':'Mozilla/5.0 (Windows NT 10.0; Win64; x64) AppleWebKit/537.36 (KHTML, like Gecko) Chrome/135.0.0.0 Safari/537.36',\n",
        "        'Accept-Language': 'en-GB,en-US;q=0.9,en;q=0.8'\n",
        "    }\n",
        "\n",
        "    # Making the HTTP Request\n",
        "    webpage = requests.get(URL, headers=HEADERS)\n",
        "\n",
        "    # Creating the Soup Object containing all data\n",
        "    soup = BeautifulSoup(webpage.content, \"lxml\")\n",
        "\n",
        "    # retrieving product title\n",
        "    try:\n",
        "        # Outer Tag Object\n",
        "        title = soup.find(\"span\", attrs={\n",
        "            'id': 'productTitle'\n",
        "        })\n",
        "\n",
        "        # Inner NavigableString Object\n",
        "        title_value = title.string\n",
        "\n",
        "        # Title as a string value\n",
        "        title_string = title_value.strip().replace(',', '')\n",
        "\n",
        "    except AttributeError:\n",
        "        title_string = \"NA\"\n",
        "    print(\"product Title = \", title_string)\n",
        "\n",
        "    # saving the title in the file\n",
        "    File.write(f\"{title_string},\")\n",
        "\n",
        "    # retrieving price\n",
        "    try:\n",
        "        price = soup.find(\"span\", attrs={\n",
        "            'id': 'priceblock_ourprice'\n",
        "        }).string.strip().replace(',', '')\n",
        "        # we are omitting unnecessary spaces\n",
        "        # and commas form our string\n",
        "    except AttributeError:\n",
        "        price = \"NA\"\n",
        "    print(\"Products price = \", price)\n",
        "\n",
        "    # saving\n",
        "    File.write(f\"{price},\")\n",
        "\n",
        "    # retrieving product rating\n",
        "    try:\n",
        "        rating = soup.find(\"i\", attrs={\n",
        "                           'class': 'a-icon a-icon-star a-star-4-5'\n",
        "        }).string.strip().replace(',', '')\n",
        "\n",
        "    except AttributeError:\n",
        "\n",
        "        try:\n",
        "            rating = soup.find(\"span\", attrs={\n",
        "                'class': 'a-icon-alt'\n",
        "            }).string.strip().replace(',', '')\n",
        "        except:\n",
        "            rating = \"NA\"\n",
        "    print(\"Overall rating = \", rating)\n",
        "\n",
        "    File.write(f\"{rating},\")\n",
        "\n",
        "    try:\n",
        "        review_count = soup.find(\"span\", attrs={\n",
        "            'id': 'acrCustomerReviewText'\n",
        "        }).string.strip().replace(',', '')\n",
        "\n",
        "    except AttributeError:\n",
        "        review_count = \"NA\"\n",
        "    print(\"Total reviews = \", review_count)\n",
        "    File.write(f\"{review_count},\")\n",
        "\n",
        "    # print availablility status\n",
        "    try:\n",
        "        available = soup.find(\"div\", attrs={'id': 'availability'})\n",
        "        available = available.find(\"span\").string.strip().replace(',', '')\n",
        "\n",
        "    except AttributeError:\n",
        "        available = \"NA\"\n",
        "    print(\"Availability = \", available)\n",
        "\n",
        "    # saving the availability and closing the line\n",
        "    File.write(f\"{available},\\n\")\n",
        "\n",
        "    # closing the file\n",
        "    File.close()"
      ]
    },
    {
      "cell_type": "code",
      "execution_count": 4,
      "metadata": {
        "colab": {
          "base_uri": "https://localhost:8080/"
        },
        "id": "BIsFP8iKT_bj",
        "outputId": "6042e1eb-8f0f-420a-e380-9c5db1efe171"
      },
      "outputs": [],
      "source": [
        "if __name__ == '_main_':\n",
        "    main(\"https://www.amazon.in/s?k=womens+kurta+set+with+dupatta&crid=3LZAQF6Y6ZXOP&sprefix=womens+%2Caps%2C337&ref=nb_sb_ss_ts-doa-p_6_7\")"
      ]
    },
    {
      "cell_type": "code",
      "execution_count": null,
      "metadata": {
        "id": "e7OrRzPNUDVo"
      },
      "outputs": [],
      "source": []
    }
  ],
  "metadata": {
    "colab": {
      "provenance": []
    },
    "kernelspec": {
      "display_name": "Python 3",
      "name": "python3"
    },
    "language_info": {
      "codemirror_mode": {
        "name": "ipython",
        "version": 3
      },
      "file_extension": ".py",
      "mimetype": "text/x-python",
      "name": "python",
      "nbconvert_exporter": "python",
      "pygments_lexer": "ipython3",
      "version": "3.11.1"
    }
  },
  "nbformat": 4,
  "nbformat_minor": 0
}
